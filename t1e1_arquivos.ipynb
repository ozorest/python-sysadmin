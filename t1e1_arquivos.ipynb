{
  "nbformat": 4,
  "nbformat_minor": 0,
  "metadata": {
    "colab": {
      "name": "t1e1_arquivos.ipynb",
      "provenance": [],
      "collapsed_sections": [],
      "authorship_tag": "ABX9TyPXtOmhuVX1RCgieoXv2H69",
      "include_colab_link": true
    },
    "kernelspec": {
      "name": "python3",
      "display_name": "Python 3"
    }
  },
  "cells": [
    {
      "cell_type": "markdown",
      "metadata": {
        "id": "view-in-github",
        "colab_type": "text"
      },
      "source": [
        "<a href=\"https://colab.research.google.com/github/ozorest/python-sysadmin/blob/main/t1e1_arquivos.ipynb\" target=\"_parent\"><img src=\"https://colab.research.google.com/assets/colab-badge.svg\" alt=\"Open In Colab\"/></a>"
      ]
    },
    {
      "cell_type": "markdown",
      "metadata": {
        "id": "vG85kbLfT6Ql"
      },
      "source": [
        "# Trabalhando com Arquivos\n"
      ]
    },
    {
      "cell_type": "markdown",
      "metadata": {
        "id": "00JHP1amVwAa"
      },
      "source": [
        "### 1. Abrindo arquivos somente leitura"
      ]
    },
    {
      "cell_type": "code",
      "metadata": {
        "id": "RvMYgNpyUYVx"
      },
      "source": [
        "arquivo = 'python_sysops.txt'\n",
        "abrir_arquivo = open(arquivo, 'r') # --> este 'r' indica que o arquivo será aberto somente leitura\n",
        "texto = abrir_arquivo.read()\n",
        "linhas = abrir_arquivo.readlines()"
      ],
      "execution_count": null,
      "outputs": []
    }
  ]
}